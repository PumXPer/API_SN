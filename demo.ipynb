{
 "cells": [
  {
   "cell_type": "code",
   "execution_count": 35,
   "metadata": {},
   "outputs": [],
   "source": [
    "from sentence_transformers import SentenceTransformer\n",
    "import faiss\n",
    "import numpy as np\n",
    "import pandas as pd\n",
    "\n",
    "def l2_to_cosine_similarity(l2):\n",
    "    return 1 / (1 + l2)\n",
    "\n",
    "def search_model(text_seach):\n",
    "    # โหลดโมเดลที่เร็วขึ้น\n",
    "    model = SentenceTransformer(\"ml/model\")\n",
    "\n",
    "    # โหลด FAISS index & sentences\n",
    "    sentences = np.load(\"encode/sentences.npy\")\n",
    "    index = faiss.read_index(\"encode/faiss_index.bin\")\n",
    "\n",
    "    # Create Vector Search Index\n",
    "    query = model.encode([text_seach])\n",
    "    query = np.array(query).astype('float32')\n",
    "\n",
    "    # ค้นหา Top 1 คล้ายที่สุด\n",
    "    k=1\n",
    "    distances, indices = index.search(query, k)     # ค้นหา\n",
    "\n",
    "    threshold = 0.9\n",
    "    best_match = None\n",
    "    best_similarity = 0\n",
    "\n",
    "    for i, dist in zip(indices[0], distances[0]):\n",
    "        similarity = l2_to_cosine_similarity(dist)\n",
    "        if similarity > threshold and similarity > best_similarity:\n",
    "            best_match = sentences[i]\n",
    "            best_similarity = similarity\n",
    "\n",
    "    # print(\"Best Match:\", best_match)\n",
    "    return best_match, best_similarity\n",
    "\n",
    "def search_contain(text_seach, df):\n",
    "    match_sn = [sn for sn in df['SerialNumber'] if text_seach in sn]\n",
    "    return match_sn\n",
    "\n",
    "def search_result(best_match, best_similarity, df, text_seach):\n",
    "    if best_match:\n",
    "        matched_data = df[df[\"SerialNumber\"] == best_match].to_dict(orient=\"records\")\n",
    "        res = {\n",
    "            \"best_similarity\": best_similarity,\n",
    "            \"detail\": matched_data,\n",
    "            \"process\": \"model\"\n",
    "        }\n",
    "        print(res)\n",
    "    else:\n",
    "        matched_sn = search_contain(text_seach, df)\n",
    "\n",
    "        if matched_sn:\n",
    "            matched_data = df[df[\"SerialNumber\"].isin(matched_sn)].to_dict(orient=\"records\")\n",
    "\n",
    "            if matched_data:\n",
    "                res = {\n",
    "                    \"best_similarity\": best_similarity,\n",
    "                    \"detail\": matched_data,\n",
    "                    \"process\": \"contain\"\n",
    "                }\n",
    "                print(res)\n",
    "            else:\n",
    "                print(\"serial number not found in contain search\")\n",
    "        else:\n",
    "            print(\"serial number not found in model search\")\n",
    "    "
   ]
  },
  {
   "cell_type": "code",
   "execution_count": 36,
   "metadata": {},
   "outputs": [
    {
     "name": "stdout",
     "output_type": "stream",
     "text": [
      "{'best_similarity': 0, 'detail': [{'SerialNumber': 'CY26462438', 'Customer': 'Jane Smith', 'Product': 'Smartwatch', 'StartDate': '2023-10-17', 'EndDate': '2024-05-14'}], 'process': 'contain'}\n"
     ]
    }
   ],
   "source": [
    "text_seach = \"CY26\"\n",
    "best_match, best_similarity = search_model(text_seach)\n",
    "dataset = pd.read_csv(\"encode/data.csv\")\n",
    "search_result(best_match, best_similarity, dataset, text_seach)"
   ]
  },
  {
   "cell_type": "code",
   "execution_count": 37,
   "metadata": {},
   "outputs": [
    {
     "name": "stdout",
     "output_type": "stream",
     "text": [
      "1.26.4\n"
     ]
    }
   ],
   "source": [
    "import numpy as np\n",
    "print(np.__version__)\n"
   ]
  },
  {
   "cell_type": "code",
   "execution_count": 1,
   "metadata": {},
   "outputs": [
    {
     "name": "stdout",
     "output_type": "stream",
     "text": [
      "Collecting numpy==2.1.3\n",
      "  Downloading numpy-2.1.3-cp311-cp311-win_amd64.whl.metadata (60 kB)\n",
      "Downloading numpy-2.1.3-cp311-cp311-win_amd64.whl (12.9 MB)\n",
      "   ---------------------------------------- 0.0/12.9 MB ? eta -:--:--\n",
      "   -- ------------------------------------- 0.8/12.9 MB 4.2 MB/s eta 0:00:03\n",
      "   ---- ----------------------------------- 1.6/12.9 MB 4.0 MB/s eta 0:00:03\n",
      "   ------- -------------------------------- 2.4/12.9 MB 3.7 MB/s eta 0:00:03\n",
      "   --------- ------------------------------ 3.1/12.9 MB 3.8 MB/s eta 0:00:03\n",
      "   ------------ --------------------------- 3.9/12.9 MB 3.9 MB/s eta 0:00:03\n",
      "   --------------- ------------------------ 5.0/12.9 MB 3.9 MB/s eta 0:00:03\n",
      "   ----------------- ---------------------- 5.8/12.9 MB 3.9 MB/s eta 0:00:02\n",
      "   -------------------- ------------------- 6.6/12.9 MB 3.9 MB/s eta 0:00:02\n",
      "   ----------------------- ---------------- 7.6/12.9 MB 4.0 MB/s eta 0:00:02\n",
      "   -------------------------- ------------- 8.4/12.9 MB 4.0 MB/s eta 0:00:02\n",
      "   ---------------------------- ----------- 9.2/12.9 MB 4.0 MB/s eta 0:00:01\n",
      "   ------------------------------ --------- 10.0/12.9 MB 4.0 MB/s eta 0:00:01\n",
      "   --------------------------------- ------ 10.7/12.9 MB 3.9 MB/s eta 0:00:01\n",
      "   ----------------------------------- ---- 11.5/12.9 MB 4.0 MB/s eta 0:00:01\n",
      "   ---------------------------------------  12.6/12.9 MB 4.0 MB/s eta 0:00:01\n",
      "   ---------------------------------------- 12.9/12.9 MB 3.9 MB/s eta 0:00:00\n",
      "Installing collected packages: numpy\n",
      "  Attempting uninstall: numpy\n",
      "    Found existing installation: numpy 1.26.4\n",
      "    Uninstalling numpy-1.26.4:\n",
      "      Successfully uninstalled numpy-1.26.4\n",
      "Successfully installed numpy-2.1.3\n",
      "Note: you may need to restart the kernel to use updated packages.\n"
     ]
    },
    {
     "name": "stderr",
     "output_type": "stream",
     "text": [
      "ERROR: pip's dependency resolver does not currently take into account all the packages that are installed. This behaviour is the source of the following dependency conflicts.\n",
      "scikit-learn 1.4.0 requires numpy<2.0,>=1.19.5, but you have numpy 2.1.3 which is incompatible.\n",
      "scipy 1.10.1 requires numpy<1.27.0,>=1.19.5, but you have numpy 2.1.3 which is incompatible.\n",
      "streamlit 1.28.1 requires numpy<2,>=1.19.3, but you have numpy 2.1.3 which is incompatible.\n"
     ]
    }
   ],
   "source": [
    "pip install numpy==2.1.3\n"
   ]
  }
 ],
 "metadata": {
  "kernelspec": {
   "display_name": "Python 3",
   "language": "python",
   "name": "python3"
  },
  "language_info": {
   "codemirror_mode": {
    "name": "ipython",
    "version": 3
   },
   "file_extension": ".py",
   "mimetype": "text/x-python",
   "name": "python",
   "nbconvert_exporter": "python",
   "pygments_lexer": "ipython3",
   "version": "3.11.4"
  }
 },
 "nbformat": 4,
 "nbformat_minor": 2
}
