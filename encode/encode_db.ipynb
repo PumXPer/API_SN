{
 "cells": [
  {
   "cell_type": "code",
   "execution_count": 3,
   "metadata": {},
   "outputs": [
    {
     "name": "stdout",
     "output_type": "stream",
     "text": [
      "✅ บันทึก sentences เสร็จแล้ว!\n",
      "✅ บันทึก FAISS เสร็จแล้ว!\n"
     ]
    }
   ],
   "source": [
    "import numpy as np\n",
    "import pandas as pd\n",
    "from sentence_transformers import SentenceTransformer\n",
    "import faiss\n",
    "\n",
    "# โหลดโมเดลที่เร็วขึ้น\n",
    "model = SentenceTransformer(\"../ml/model\")\n",
    "\n",
    "# read data\n",
    "dataset = pd.read_csv(\"data.csv\")\n",
    "df_sentences = dataset[[\"SerialNumber\"]]\n",
    "sentences = df_sentences[\"SerialNumber\"].tolist()\n",
    "\n",
    "# ตัวอย่างประโยค\n",
    "# sentences = [\"แมวกำลังกินอาหาร\", \"สุนัขวิ่งเล่นในสวน\", \"เด็กๆ กำลังเรียนหนังสือ\"]\n",
    "\n",
    "# สร้าง embeddings จากประโยค\n",
    "embeddings = model.encode(sentences)\n",
    "embeddings = np.array(embeddings).astype(\"float32\")\n",
    "\n",
    "# สร้าง FAISS Index\n",
    "d = embeddings.shape[1]  # ขนาดของ embedding\n",
    "index = faiss.IndexFlatL2(d)\n",
    "index.add(embeddings)  # เพิ่ม embeddings ลง FAISS\n",
    "\n",
    "# Save Sentences\n",
    "np.save(\"sentences.npy\", np.array(sentences))  # บันทึกข้อความเพื่อใช้งานภายหลัง\n",
    "\n",
    "print(\"✅ บันทึก sentences เสร็จแล้ว!\")\n",
    "\n",
    "# บันทึก index\n",
    "faiss.write_index(index, \"faiss_index.bin\")\n",
    "\n",
    "print(\"✅ บันทึก FAISS เสร็จแล้ว!\")\n",
    "\n",
    "# # Encode และบันทึกลงไฟล์\n",
    "# embeddings = model.encode(sentences)\n",
    "# np.save(\"embeddings.npy\", embeddings)  # บันทึกไฟล์\n",
    "# np.save(\"sentences.npy\", np.array(sentences))  # บันทึกข้อความเพื่อใช้งานภายหลัง\n",
    "\n",
    "# print(\"✅ บันทึก embeddings เสร็จแล้ว!\")"
   ]
  },
  {
   "cell_type": "code",
   "execution_count": null,
   "metadata": {},
   "outputs": [],
   "source": [
    "# # โหลดไฟล์ embeddings และข้อความ\n",
    "# embeddings = np.load(\"embeddings.npy\")\n",
    "# sentences = np.load(\"sentences.npy\")\n",
    "\n",
    "# print(\"✅ โหลด embeddings สำเร็จ!\")"
   ]
  },
  {
   "cell_type": "code",
   "execution_count": null,
   "metadata": {},
   "outputs": [],
   "source": [
    "# # สร้าง FAISS Index\n",
    "# d = embeddings.shape[1]  # ขนาดของ embedding\n",
    "# index = faiss.IndexFlatL2(d)\n",
    "# index.add(embeddings)  # เพิ่ม embeddings ลง FAISS\n",
    "\n",
    "# # บันทึก index\n",
    "# faiss.write_index(index, \"faiss_index.bin\")\n",
    "\n",
    "# print(\"✅ บันทึก FAISS เสร็จแล้ว!\")\n"
   ]
  }
 ],
 "metadata": {
  "kernelspec": {
   "display_name": "Python 3",
   "language": "python",
   "name": "python3"
  },
  "language_info": {
   "codemirror_mode": {
    "name": "ipython",
    "version": 3
   },
   "file_extension": ".py",
   "mimetype": "text/x-python",
   "name": "python",
   "nbconvert_exporter": "python",
   "pygments_lexer": "ipython3",
   "version": "3.12.9"
  }
 },
 "nbformat": 4,
 "nbformat_minor": 2
}
